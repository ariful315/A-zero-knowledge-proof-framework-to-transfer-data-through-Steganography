# Steg part.

# Python program implementing Image Steganography
 
# PIL module is used to extract
# pixels of image and modify it
from PIL import Image


#  Varifying the prover
def checkPin(given, op):
    if op == '*':
        return pin == given//1337
    elif op == '+':
        return pin == given-1337

def genData(data):
    newd = []
    for i in data:
        newd.append(format(ord(i), '08b'))
    return newd

def modPix(pix, data):
    datalist = genData(data)
    lendata = len(datalist)
    imdata = iter(pix)

    for i in range(lendata):
        pix = [value for value in imdata.__next__()[:3] +
                          imdata.__next__()[:3] +
                          imdata.__next__()[:3]]

        for j in range(0, 8):
            if (datalist[i][j] == '0' and pix[j] % 2 != 0):
                pix[j] -= 1
            elif (datalist[i][j] == '1' and pix[j] % 2 == 0):
                if (pix[j] != 0):
                    pix[j] -= 1
                else:
                    pix[j] += 1

        if (i == lendata - 1):
            if (pix[-1] % 2 == 0):
                if (pix[-1] != 0):
                    pix[-1] -= 1
                else:
                    pix[-1] += 1
        else:
            if (pix[-1] % 2 != 0):
                pix[-1] -= 1

        pix = tuple(pix)
        yield pix[0:3]
        yield pix[3:6]
        yield pix[6:9]

def encode_enc(newimg, data):
    w = newimg.size[0]
    (x, y) = (0, 0)

    for pixel in modPix(newimg.getdata(), data):
        newimg.putpixel((x, y), pixel)
        if (x == w - 1):
            x = 0
            y += 1
        else:
            x += 1

def encode(image_name, data, new_image_name):
    global pin
    pin = int(input("Enter pin to lock your file : "))
    if (len(data) == 0):
        raise ValueError('Pin is not defined!')
    
    image = Image.open(image_name)
    if (len(data) == 0):
        raise ValueError('Data is empty')

    newimg = image.copy().convert('RGB')
    encode_enc(newimg, data)

    newimg.save(new_image_name)

def decode(image_name):
    image = Image.open(image_name)
    ops = ['*' , '+']
    for i in range(2):
        msg = f'What will be pin {ops[i]} 1337 = '
        temKey = int(input(msg))
        while(not checkPin(temKey, ops[i])):
              print('You are lier!')
              return
        print("You are on the way!")
    data = ''
    imgdata = iter(image.getdata())

    while True:
        pixels = [value for value in imgdata.__next__()[:3] +
                                imgdata.__next__()[:3] +
                                imgdata.__next__()[:3]]

        binstr = ''

        for i in pixels[:8]:
            if (i % 2 == 0):
                binstr += '0'
            else:
                binstr += '1'

        data += chr(int(binstr, 2))
        if (pixels[-1] % 2 != 0):
            return data

# Main Function
def steg():
    a = int(input(":: Welcome to Steganography ::\n"
                        "1. Encode\n2. Decode\n"))
    if (a == 1):
        image_name = input("Enter image name (with extension): ")
        data = input("Enter data to be encoded: ")
        new_image_name = input("Enter the name of the new image (with extension): ")
        encode(image_name, data, new_image_name)

    elif (a == 2):
        image_name = input("Enter image name (with extension): ")
        print("Decoded Word: " + decode(image_name))

    else:
        raise Exception("Enter correct input")
while True:
    steg()